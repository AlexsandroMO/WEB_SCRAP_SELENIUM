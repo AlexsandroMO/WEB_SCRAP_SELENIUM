{
 "cells": [
  {
   "cell_type": "code",
   "execution_count": 12,
   "metadata": {},
   "outputs": [],
   "source": [
    "#.clear()\n",
    "#.click()\n",
    "#.send_keys('ABCD')\n",
    "#.quit()\n",
    "\n",
    "#nav.implicitly_wait(10)\n",
    "#time.sleep(5) \n"
   ]
  },
  {
   "cell_type": "code",
   "execution_count": null,
   "metadata": {},
   "outputs": [
    {
     "ename": "",
     "evalue": "",
     "output_type": "error",
     "traceback": [
      "\u001b[1;31mFailed to start the Kernel. \n",
      "\u001b[1;31mUnable to start Kernel 'venv (Python 3.9.6)' due to connection timeout. \n",
      "\u001b[1;31mView Jupyter <a href='command:jupyter.viewOutput'>log</a> for further details."
     ]
    }
   ],
   "source": [
    "from selenium import webdriver\n",
    "from selenium.webdriver.common.by import By\n",
    "import time\n",
    "\n",
    "nav = webdriver.Chrome()\n",
    "nav.get('https://www.google.com/')\n",
    "\n",
    "type_research = True #>> Testa o tipo de pesquisa\n",
    "\n",
    "if type_research == True:\n",
    "  search_text = 'violão'\n",
    "  #search_text = input('Digite Sua pesquisa: ')\n",
    "\n",
    "  nav.find_element(By.NAME, 'q').send_keys(search_text)\n",
    "  time.sleep(1) \n",
    "  nav.find_element(By.NAME, 'btnK').click()\n",
    "\n",
    "\n",
    "\n",
    "else: \n",
    "  #---------------- esconder o navegador\n",
    "  # options = webdriver.ChromeOptions()\n",
    "  # options.add_argument(\"--headless\")\n",
    "  # nav = webdriver.Chrome(options=options)\n",
    "  #-------------------------------------\n",
    "\n",
    "  nav.find_element(By.NAME, 'q').send_keys('Tempo')\n",
    "  time.sleep(1) \n",
    "  nav.find_element(By.NAME, 'btnK').click()\n",
    "\n",
    "  result = nav.find_element(By.ID, 'wob_tm').text\n",
    "\n",
    "  def weather_now():\n",
    "    degrees = nav.find_element(By.ID, 'wob_tm').text\n",
    "    rain = nav.find_element(By.ID, 'wob_pp').text\n",
    "    moisture = nav.find_element(By.ID, 'wob_hm').text\n",
    "    wind = nav.find_element(By.ID, 'wob_ws').text\n",
    "    place = nav.find_element(By.ID, 'wob_loc').text\n",
    "    day = nav.find_element(By.ID, 'wob_dts').text\n",
    "    weather = nav.find_element(By.ID, 'wob_dcp').text\n",
    "    nav.quit()\n",
    "\n",
    "    print('Temperatura: {}\\nChuva: {}%\\nUmidade: {}%\\nVento: {}%\\n\\nLocal: {}\\nDia: {}\\nTempo: {}'.format(degrees, rain,moisture,wind,place,day,weather))"
   ]
  },
  {
   "cell_type": "code",
   "execution_count": 1,
   "metadata": {},
   "outputs": [],
   "source": [
    "search_text = input('Digite Sua pesquisa: ')"
   ]
  },
  {
   "cell_type": "code",
   "execution_count": 24,
   "metadata": {},
   "outputs": [],
   "source": [
    "nav = webdriver.Chrome()\n",
    "nav.get('https://www.google.com/')\n",
    "nav.find_element(By.NAME, 'q').send_keys(search)\n",
    "time.sleep(1) \n",
    "nav.find_element(By.NAME, 'btnK').click()\n",
    "\n",
    "degrees = nav.find_element(By.ID, 'wob_tm').text\n",
    "rain = nav.find_element(By.ID, 'wob_pp').text\n",
    "moisture = nav.find_element(By.ID, 'wob_hm').text\n",
    "wind = nav.find_element(By.ID, 'wob_ws').text\n",
    "place = nav.find_element(By.ID, 'wob_loc').text\n",
    "day = nav.find_element(By.ID, 'wob_dts').text\n",
    "weather = nav.find_element(By.ID, 'wob_dcp').text\n",
    "nav.quit()"
   ]
  },
  {
   "cell_type": "code",
   "execution_count": 31,
   "metadata": {},
   "outputs": [
    {
     "name": "stdout",
     "output_type": "stream",
     "text": [
      "Temperatura: 22\n",
      "Chuva: 2%%\n",
      "Umidade: 81%%\n",
      "Vento: 11 km/h%\n",
      "\n",
      "Local: Tijuca, Rio de Janeiro - RJ\n",
      "Dia: quinta-feira, 22:00\n",
      "Tempo: Nublado\n"
     ]
    }
   ],
   "source": [
    "print('Temperatura: {}\\nChuva: {}%\\nUmidade: {}%\\nVento: {}%\\n\\nLocal: {}\\nDia: {}\\nTempo: {}'.format(degrees, rain,moisture,wind,place,day,weather))"
   ]
  },
  {
   "cell_type": "code",
   "execution_count": null,
   "metadata": {},
   "outputs": [
    {
     "ename": "",
     "evalue": "",
     "output_type": "error",
     "traceback": [
      "\u001b[1;31mFailed to start the Kernel. \n",
      "\u001b[1;31mUnable to start Kernel 'venv (Python 3.9.6)' due to connection timeout. \n",
      "\u001b[1;31mView Jupyter <a href='command:jupyter.viewOutput'>log</a> for further details."
     ]
    }
   ],
   "source": []
  },
  {
   "cell_type": "code",
   "execution_count": null,
   "metadata": {},
   "outputs": [],
   "source": []
  }
 ],
 "metadata": {
  "kernelspec": {
   "display_name": "venv",
   "language": "python",
   "name": "python3"
  },
  "language_info": {
   "codemirror_mode": {
    "name": "ipython",
    "version": 3
   },
   "file_extension": ".py",
   "mimetype": "text/x-python",
   "name": "python",
   "nbconvert_exporter": "python",
   "pygments_lexer": "ipython3",
   "version": "3.9.6 (tags/v3.9.6:db3ff76, Jun 28 2021, 15:26:21) [MSC v.1929 64 bit (AMD64)]"
  },
  "orig_nbformat": 4,
  "vscode": {
   "interpreter": {
    "hash": "df8c86b983e58d56ecd67240d46ffd5b39864ec9455878f3e9172fb6f3ac2ff0"
   }
  }
 },
 "nbformat": 4,
 "nbformat_minor": 2
}
